{
 "cells": [
  {
   "cell_type": "markdown",
   "id": "2784c95e",
   "metadata": {
    "toc": true
   },
   "source": [
    "<h1>Table of Contents<span class=\"tocSkip\"></span></h1>\n",
    "<div class=\"toc\"><ul class=\"toc-item\"><li><span><a href=\"#Import-Libraries\" data-toc-modified-id=\"Import-Libraries-1\">Import Libraries</a></span></li><li><span><a href=\"#Import-Data\" data-toc-modified-id=\"Import-Data-2\">Import Data</a></span></li><li><span><a href=\"#Merging-Dataframes\" data-toc-modified-id=\"Merging-Dataframes-3\">Merging Dataframes</a></span></li><li><span><a href=\"#Data-Cleaning\" data-toc-modified-id=\"Data-Cleaning-4\">Data Cleaning</a></span><ul class=\"toc-item\"><li><span><a href=\"#Check-for-and-address-consistency-in-&quot;country&quot;-column\" data-toc-modified-id=\"Check-for-and-address-consistency-in-&quot;country&quot;-column-4.1\">Check for and address consistency in \"country\" column</a></span></li><li><span><a href=\"#Check-for-and-address-consistency-in-&quot;region&quot;-column\" data-toc-modified-id=\"Check-for-and-address-consistency-in-&quot;region&quot;-column-4.2\">Check for and address consistency in \"region\" column</a></span></li><li><span><a href=\"#Check-for-and-address-duplicates\" data-toc-modified-id=\"Check-for-and-address-duplicates-4.3\">Check for and address duplicates</a></span></li><li><span><a href=\"#Check-for-and-address-missing-data\" data-toc-modified-id=\"Check-for-and-address-missing-data-4.4\">Check for and address missing data</a></span></li><li><span><a href=\"#Check-for-and-address-datatype-consistency-per-column\" data-toc-modified-id=\"Check-for-and-address-datatype-consistency-per-column-4.5\">Check for and address datatype consistency per column</a></span></li></ul></li><li><span><a href=\"#Data-profiling\" data-toc-modified-id=\"Data-profiling-5\">Data profiling</a></span><ul class=\"toc-item\"><li><span><a href=\"#Descriptive-Stats\" data-toc-modified-id=\"Descriptive-Stats-5.1\">Descriptive Stats</a></span></li><li><span><a href=\"#Datatypes\" data-toc-modified-id=\"Datatypes-5.2\">Datatypes</a></span></li><li><span><a href=\"#Count-of-missing-values\" data-toc-modified-id=\"Count-of-missing-values-5.3\">Count of missing values</a></span></li><li><span><a href=\"#Data-quality-issues\" data-toc-modified-id=\"Data-quality-issues-5.4\">Data quality issues</a></span></li><li><span><a href=\"#Distribution-of-values\" data-toc-modified-id=\"Distribution-of-values-5.5\">Distribution of values</a></span></li><li><span><a href=\"#Check-for-and-address-any-outliers\" data-toc-modified-id=\"Check-for-and-address-any-outliers-5.6\">Check for and address any outliers</a></span></li></ul></li><li><span><a href=\"#Export-the-cleaned-dataframe\" data-toc-modified-id=\"Export-the-cleaned-dataframe-6\">Export the cleaned dataframe</a></span></li></ul></div>"
   ]
  },
  {
   "cell_type": "markdown",
   "id": "d9a6c12c",
   "metadata": {},
   "source": [
    "## Import Libraries"
   ]
  },
  {
   "cell_type": "code",
   "execution_count": 1,
   "id": "a3f86e0e",
   "metadata": {},
   "outputs": [],
   "source": [
    "import pandas as pd\n",
    "import numpy as np\n",
    "import os\n",
    "import matplotlib.pyplot as plt\n",
    "import seaborn as sn\n",
    "import scipy"
   ]
  },
  {
   "cell_type": "markdown",
   "id": "ead1649f",
   "metadata": {},
   "source": [
    "## Import Data"
   ]
  },
  {
   "cell_type": "code",
   "execution_count": 2,
   "id": "70ac4b9d",
   "metadata": {},
   "outputs": [],
   "source": [
    "# make a path\n",
    "path = r'/Users/profkdfischer/World Happiness Report Analysis'"
   ]
  },
  {
   "cell_type": "code",
   "execution_count": 3,
   "id": "ab3bc0ab",
   "metadata": {},
   "outputs": [],
   "source": [
    "# import the 9 csv files of the WHR dataset\n",
    "df1 = pd.read_csv(os.path.join(path, '02 Data', 'Original Data', 'WHR_2015.csv'))\n",
    "df2 = pd.read_csv(os.path.join(path, '02 Data', 'Original Data', 'WHR_2016.csv'))\n",
    "df3 = pd.read_csv(os.path.join(path, '02 Data', 'Original Data', 'WHR_2017.csv'))\n",
    "df4 = pd.read_csv(os.path.join(path, '02 Data', 'Original Data', 'WHR_2018.csv'))\n",
    "df5 = pd.read_csv(os.path.join(path, '02 Data', 'Original Data', 'WHR_2019.csv'))\n",
    "df6 = pd.read_csv(os.path.join(path, '02 Data', 'Original Data', 'WHR_2020.csv'))\n",
    "df7 = pd.read_csv(os.path.join(path, '02 Data', 'Original Data', 'WHR_2021.csv'))\n",
    "df8 = pd.read_csv(os.path.join(path, '02 Data', 'Original Data', 'WHR_2022.csv'))\n",
    "df9 = pd.read_csv(os.path.join(path, '02 Data', 'Original Data', 'WHR_2023.csv'))"
   ]
  },
  {
   "cell_type": "markdown",
   "id": "fbc06726",
   "metadata": {},
   "source": [
    "## Merging Dataframes"
   ]
  },
  {
   "cell_type": "code",
   "execution_count": 4,
   "id": "7b9f3a5e",
   "metadata": {},
   "outputs": [],
   "source": [
    "# create a list of the dataframes\n",
    "dfs = [df1, df2, df3, df4, df5, df6, df7, df8, df9]"
   ]
  },
  {
   "cell_type": "code",
   "execution_count": 5,
   "id": "018c78d5",
   "metadata": {},
   "outputs": [],
   "source": [
    "# add a year column to each df\n",
    "years = range(2015, 2024)\n",
    "for i in range(len(dfs)):\n",
    "    dfs[i]['year'] = years[i]"
   ]
  },
  {
   "cell_type": "code",
   "execution_count": 6,
   "id": "93eca3bf",
   "metadata": {},
   "outputs": [],
   "source": [
    "# concatenate the dfs in a stack \n",
    "whr_df = pd.concat(dfs, ignore_index = True)"
   ]
  },
  {
   "cell_type": "code",
   "execution_count": 7,
   "id": "6a9bd1fe",
   "metadata": {},
   "outputs": [
    {
     "data": {
      "text/plain": [
       "(1367, 10)"
      ]
     },
     "execution_count": 7,
     "metadata": {},
     "output_type": "execute_result"
    }
   ],
   "source": [
    "# check the shape\n",
    "whr_df.shape"
   ]
  },
  {
   "cell_type": "code",
   "execution_count": 8,
   "id": "75e35d1b",
   "metadata": {},
   "outputs": [],
   "source": [
    "# just show me 2 decimal places\n",
    "pd.set_option('display.precision', 2)"
   ]
  },
  {
   "cell_type": "code",
   "execution_count": 9,
   "id": "ec70b0f3",
   "metadata": {},
   "outputs": [
    {
     "data": {
      "text/html": [
       "<div>\n",
       "<style scoped>\n",
       "    .dataframe tbody tr th:only-of-type {\n",
       "        vertical-align: middle;\n",
       "    }\n",
       "\n",
       "    .dataframe tbody tr th {\n",
       "        vertical-align: top;\n",
       "    }\n",
       "\n",
       "    .dataframe thead th {\n",
       "        text-align: right;\n",
       "    }\n",
       "</style>\n",
       "<table border=\"1\" class=\"dataframe\">\n",
       "  <thead>\n",
       "    <tr style=\"text-align: right;\">\n",
       "      <th></th>\n",
       "      <th>country</th>\n",
       "      <th>region</th>\n",
       "      <th>happiness_score</th>\n",
       "      <th>gdp_per_capita</th>\n",
       "      <th>social_support</th>\n",
       "      <th>healthy_life_expectancy</th>\n",
       "      <th>freedom_to_make_life_choices</th>\n",
       "      <th>generosity</th>\n",
       "      <th>perceptions_of_corruption</th>\n",
       "      <th>year</th>\n",
       "    </tr>\n",
       "  </thead>\n",
       "  <tbody>\n",
       "    <tr>\n",
       "      <th>0</th>\n",
       "      <td>Switzerland</td>\n",
       "      <td>Western Europe</td>\n",
       "      <td>7.59</td>\n",
       "      <td>1.40</td>\n",
       "      <td>1.35</td>\n",
       "      <td>0.94</td>\n",
       "      <td>0.67</td>\n",
       "      <td>0.30</td>\n",
       "      <td>0.42</td>\n",
       "      <td>2015</td>\n",
       "    </tr>\n",
       "    <tr>\n",
       "      <th>1</th>\n",
       "      <td>Iceland</td>\n",
       "      <td>Western Europe</td>\n",
       "      <td>7.56</td>\n",
       "      <td>1.30</td>\n",
       "      <td>1.40</td>\n",
       "      <td>0.95</td>\n",
       "      <td>0.63</td>\n",
       "      <td>0.44</td>\n",
       "      <td>0.14</td>\n",
       "      <td>2015</td>\n",
       "    </tr>\n",
       "    <tr>\n",
       "      <th>2</th>\n",
       "      <td>Denmark</td>\n",
       "      <td>Western Europe</td>\n",
       "      <td>7.53</td>\n",
       "      <td>1.33</td>\n",
       "      <td>1.36</td>\n",
       "      <td>0.87</td>\n",
       "      <td>0.65</td>\n",
       "      <td>0.34</td>\n",
       "      <td>0.48</td>\n",
       "      <td>2015</td>\n",
       "    </tr>\n",
       "    <tr>\n",
       "      <th>3</th>\n",
       "      <td>Norway</td>\n",
       "      <td>Western Europe</td>\n",
       "      <td>7.52</td>\n",
       "      <td>1.46</td>\n",
       "      <td>1.33</td>\n",
       "      <td>0.89</td>\n",
       "      <td>0.67</td>\n",
       "      <td>0.35</td>\n",
       "      <td>0.37</td>\n",
       "      <td>2015</td>\n",
       "    </tr>\n",
       "    <tr>\n",
       "      <th>4</th>\n",
       "      <td>Canada</td>\n",
       "      <td>North America and ANZ</td>\n",
       "      <td>7.43</td>\n",
       "      <td>1.33</td>\n",
       "      <td>1.32</td>\n",
       "      <td>0.91</td>\n",
       "      <td>0.63</td>\n",
       "      <td>0.46</td>\n",
       "      <td>0.33</td>\n",
       "      <td>2015</td>\n",
       "    </tr>\n",
       "  </tbody>\n",
       "</table>\n",
       "</div>"
      ],
      "text/plain": [
       "       country                 region  happiness_score  gdp_per_capita  \\\n",
       "0  Switzerland         Western Europe             7.59            1.40   \n",
       "1      Iceland         Western Europe             7.56            1.30   \n",
       "2      Denmark         Western Europe             7.53            1.33   \n",
       "3       Norway         Western Europe             7.52            1.46   \n",
       "4       Canada  North America and ANZ             7.43            1.33   \n",
       "\n",
       "   social_support  healthy_life_expectancy  freedom_to_make_life_choices  \\\n",
       "0            1.35                     0.94                          0.67   \n",
       "1            1.40                     0.95                          0.63   \n",
       "2            1.36                     0.87                          0.65   \n",
       "3            1.33                     0.89                          0.67   \n",
       "4            1.32                     0.91                          0.63   \n",
       "\n",
       "   generosity  perceptions_of_corruption  year  \n",
       "0        0.30                       0.42  2015  \n",
       "1        0.44                       0.14  2015  \n",
       "2        0.34                       0.48  2015  \n",
       "3        0.35                       0.37  2015  \n",
       "4        0.46                       0.33  2015  "
      ]
     },
     "execution_count": 9,
     "metadata": {},
     "output_type": "execute_result"
    }
   ],
   "source": [
    "# check the head\n",
    "whr_df.head()"
   ]
  },
  {
   "cell_type": "code",
   "execution_count": 10,
   "id": "4a89c079",
   "metadata": {},
   "outputs": [
    {
     "name": "stdout",
     "output_type": "stream",
     "text": [
      "<class 'pandas.core.frame.DataFrame'>\n",
      "RangeIndex: 1367 entries, 0 to 1366\n",
      "Data columns (total 10 columns):\n",
      " #   Column                        Non-Null Count  Dtype  \n",
      "---  ------                        --------------  -----  \n",
      " 0   country                       1367 non-null   object \n",
      " 1   region                        1367 non-null   object \n",
      " 2   happiness_score               1367 non-null   float64\n",
      " 3   gdp_per_capita                1367 non-null   float64\n",
      " 4   social_support                1367 non-null   float64\n",
      " 5   healthy_life_expectancy       1366 non-null   float64\n",
      " 6   freedom_to_make_life_choices  1367 non-null   float64\n",
      " 7   generosity                    1367 non-null   float64\n",
      " 8   perceptions_of_corruption     1366 non-null   float64\n",
      " 9   year                          1367 non-null   int64  \n",
      "dtypes: float64(7), int64(1), object(2)\n",
      "memory usage: 106.9+ KB\n"
     ]
    }
   ],
   "source": [
    "# check the datatypes\n",
    "whr_df.info()"
   ]
  },
  {
   "cell_type": "code",
   "execution_count": 11,
   "id": "344b95bc",
   "metadata": {},
   "outputs": [
    {
     "data": {
      "text/html": [
       "<div>\n",
       "<style scoped>\n",
       "    .dataframe tbody tr th:only-of-type {\n",
       "        vertical-align: middle;\n",
       "    }\n",
       "\n",
       "    .dataframe tbody tr th {\n",
       "        vertical-align: top;\n",
       "    }\n",
       "\n",
       "    .dataframe thead th {\n",
       "        text-align: right;\n",
       "    }\n",
       "</style>\n",
       "<table border=\"1\" class=\"dataframe\">\n",
       "  <thead>\n",
       "    <tr style=\"text-align: right;\">\n",
       "      <th></th>\n",
       "      <th>happiness_score</th>\n",
       "      <th>gdp_per_capita</th>\n",
       "      <th>social_support</th>\n",
       "      <th>healthy_life_expectancy</th>\n",
       "      <th>freedom_to_make_life_choices</th>\n",
       "      <th>generosity</th>\n",
       "      <th>perceptions_of_corruption</th>\n",
       "      <th>year</th>\n",
       "    </tr>\n",
       "  </thead>\n",
       "  <tbody>\n",
       "    <tr>\n",
       "      <th>count</th>\n",
       "      <td>1367.00</td>\n",
       "      <td>1367.00</td>\n",
       "      <td>1367.00</td>\n",
       "      <td>1366.00</td>\n",
       "      <td>1367.00</td>\n",
       "      <td>1367.00</td>\n",
       "      <td>1366.00</td>\n",
       "      <td>1367.00</td>\n",
       "    </tr>\n",
       "    <tr>\n",
       "      <th>mean</th>\n",
       "      <td>5.44</td>\n",
       "      <td>1.02</td>\n",
       "      <td>1.05</td>\n",
       "      <td>0.58</td>\n",
       "      <td>0.45</td>\n",
       "      <td>0.20</td>\n",
       "      <td>0.13</td>\n",
       "      <td>2018.90</td>\n",
       "    </tr>\n",
       "    <tr>\n",
       "      <th>std</th>\n",
       "      <td>1.12</td>\n",
       "      <td>0.45</td>\n",
       "      <td>0.33</td>\n",
       "      <td>0.25</td>\n",
       "      <td>0.16</td>\n",
       "      <td>0.11</td>\n",
       "      <td>0.11</td>\n",
       "      <td>2.56</td>\n",
       "    </tr>\n",
       "    <tr>\n",
       "      <th>min</th>\n",
       "      <td>1.86</td>\n",
       "      <td>0.00</td>\n",
       "      <td>0.00</td>\n",
       "      <td>0.00</td>\n",
       "      <td>0.00</td>\n",
       "      <td>0.00</td>\n",
       "      <td>0.00</td>\n",
       "      <td>2015.00</td>\n",
       "    </tr>\n",
       "    <tr>\n",
       "      <th>25%</th>\n",
       "      <td>4.60</td>\n",
       "      <td>0.70</td>\n",
       "      <td>0.83</td>\n",
       "      <td>0.40</td>\n",
       "      <td>0.36</td>\n",
       "      <td>0.12</td>\n",
       "      <td>0.06</td>\n",
       "      <td>2017.00</td>\n",
       "    </tr>\n",
       "    <tr>\n",
       "      <th>50%</th>\n",
       "      <td>5.44</td>\n",
       "      <td>1.04</td>\n",
       "      <td>1.08</td>\n",
       "      <td>0.61</td>\n",
       "      <td>0.47</td>\n",
       "      <td>0.18</td>\n",
       "      <td>0.10</td>\n",
       "      <td>2019.00</td>\n",
       "    </tr>\n",
       "    <tr>\n",
       "      <th>75%</th>\n",
       "      <td>6.26</td>\n",
       "      <td>1.34</td>\n",
       "      <td>1.30</td>\n",
       "      <td>0.78</td>\n",
       "      <td>0.57</td>\n",
       "      <td>0.25</td>\n",
       "      <td>0.17</td>\n",
       "      <td>2021.00</td>\n",
       "    </tr>\n",
       "    <tr>\n",
       "      <th>max</th>\n",
       "      <td>7.84</td>\n",
       "      <td>2.21</td>\n",
       "      <td>1.64</td>\n",
       "      <td>1.14</td>\n",
       "      <td>0.77</td>\n",
       "      <td>0.84</td>\n",
       "      <td>0.59</td>\n",
       "      <td>2023.00</td>\n",
       "    </tr>\n",
       "  </tbody>\n",
       "</table>\n",
       "</div>"
      ],
      "text/plain": [
       "       happiness_score  gdp_per_capita  social_support  \\\n",
       "count          1367.00         1367.00         1367.00   \n",
       "mean              5.44            1.02            1.05   \n",
       "std               1.12            0.45            0.33   \n",
       "min               1.86            0.00            0.00   \n",
       "25%               4.60            0.70            0.83   \n",
       "50%               5.44            1.04            1.08   \n",
       "75%               6.26            1.34            1.30   \n",
       "max               7.84            2.21            1.64   \n",
       "\n",
       "       healthy_life_expectancy  freedom_to_make_life_choices  generosity  \\\n",
       "count                  1366.00                       1367.00     1367.00   \n",
       "mean                      0.58                          0.45        0.20   \n",
       "std                       0.25                          0.16        0.11   \n",
       "min                       0.00                          0.00        0.00   \n",
       "25%                       0.40                          0.36        0.12   \n",
       "50%                       0.61                          0.47        0.18   \n",
       "75%                       0.78                          0.57        0.25   \n",
       "max                       1.14                          0.77        0.84   \n",
       "\n",
       "       perceptions_of_corruption     year  \n",
       "count                    1366.00  1367.00  \n",
       "mean                        0.13  2018.90  \n",
       "std                         0.11     2.56  \n",
       "min                         0.00  2015.00  \n",
       "25%                         0.06  2017.00  \n",
       "50%                         0.10  2019.00  \n",
       "75%                         0.17  2021.00  \n",
       "max                         0.59  2023.00  "
      ]
     },
     "execution_count": 11,
     "metadata": {},
     "output_type": "execute_result"
    }
   ],
   "source": [
    "# check the stats\n",
    "whr_df.describe()"
   ]
  },
  {
   "cell_type": "markdown",
   "id": "e0721c8c",
   "metadata": {},
   "source": [
    "## Data Cleaning"
   ]
  },
  {
   "cell_type": "markdown",
   "id": "b482132f",
   "metadata": {},
   "source": [
    "### Check for and address consistency in \"country\" column"
   ]
  },
  {
   "cell_type": "code",
   "execution_count": 12,
   "id": "b926e274",
   "metadata": {},
   "outputs": [],
   "source": [
    "# show all rows\n",
    "pd.set_option('display.max_rows', None)"
   ]
  },
  {
   "cell_type": "code",
   "execution_count": 13,
   "id": "e48ad10d",
   "metadata": {
    "scrolled": false
   },
   "outputs": [
    {
     "data": {
      "text/plain": [
       "country\n",
       "Afghanistan                   9\n",
       "Albania                       9\n",
       "Algeria                       9\n",
       "Angola                        4\n",
       "Argentina                     9\n",
       "Armenia                       9\n",
       "Australia                     9\n",
       "Austria                       9\n",
       "Azerbaijan                    8\n",
       "Bahrain                       9\n",
       "Bangladesh                    9\n",
       "Belarus                       8\n",
       "Belgium                       9\n",
       "Belize                        3\n",
       "Benin                         9\n",
       "Bhutan                        5\n",
       "Bolivia                       9\n",
       "Bosnia and Herzegovina        9\n",
       "Botswana                      9\n",
       "Brazil                        9\n",
       "Bulgaria                      9\n",
       "Burkina Faso                  9\n",
       "Burundi                       7\n",
       "Cambodia                      9\n",
       "Cameroon                      9\n",
       "Canada                        9\n",
       "Central African Republic      5\n",
       "Chad                          9\n",
       "Chile                         9\n",
       "China                         9\n",
       "Colombia                      9\n",
       "Comoros                       7\n",
       "Congo                         1\n",
       "Congo (Brazzaville)           8\n",
       "Congo (Kinshasa)              7\n",
       "Costa Rica                    9\n",
       "Croatia                       9\n",
       "Cyprus                       11\n",
       "Czech Republic                7\n",
       "Czechia                       2\n",
       "Denmark                       9\n",
       "Djibouti                      1\n",
       "Dominican Republic            9\n",
       "Ecuador                       9\n",
       "Egypt                         9\n",
       "El Salvador                   9\n",
       "Estonia                       9\n",
       "Eswatini                      1\n",
       "Ethiopia                      9\n",
       "Finland                       9\n",
       "France                        9\n",
       "Gabon                         9\n",
       "Gambia                        5\n",
       "Georgia                       9\n",
       "Germany                       9\n",
       "Ghana                         9\n",
       "Greece                        9\n",
       "Guatemala                     9\n",
       "Guinea                        9\n",
       "Haiti                         7\n",
       "Honduras                      9\n",
       "Hong Kong S.A.R. of China     9\n",
       "Hungary                       9\n",
       "Iceland                       9\n",
       "India                         9\n",
       "Indonesia                     9\n",
       "Iran                          9\n",
       "Iraq                          9\n",
       "Ireland                       9\n",
       "Israel                        9\n",
       "Italy                         9\n",
       "Ivory Coast                   9\n",
       "Jamaica                       9\n",
       "Japan                         9\n",
       "Jordan                        9\n",
       "Kazakhstan                    9\n",
       "Kenya                         9\n",
       "Kosovo                        9\n",
       "Kuwait                        8\n",
       "Kyrgyzstan                    9\n",
       "Laos                          8\n",
       "Latvia                        9\n",
       "Lebanon                       9\n",
       "Lesotho                       7\n",
       "Liberia                       9\n",
       "Libya                         8\n",
       "Lithuania                     9\n",
       "Luxembourg                    9\n",
       "Madagascar                    9\n",
       "Malawi                        9\n",
       "Malaysia                      9\n",
       "Maldives                      2\n",
       "Mali                          9\n",
       "Malta                         9\n",
       "Mauritania                    9\n",
       "Mauritius                     9\n",
       "Mexico                        9\n",
       "Moldova                       9\n",
       "Mongolia                      9\n",
       "Montenegro                    9\n",
       "Morocco                       9\n",
       "Mozambique                    8\n",
       "Myanmar                       9\n",
       "Namibia                       8\n",
       "Nepal                         9\n",
       "Netherlands                   9\n",
       "New Zealand                   9\n",
       "Nicaragua                     9\n",
       "Niger                         9\n",
       "Nigeria                       9\n",
       "North Cyprus                  6\n",
       "North Macedonia               9\n",
       "Norway                        9\n",
       "Oman                          1\n",
       "Pakistan                      9\n",
       "Palestinian Territories       8\n",
       "Panama                        9\n",
       "Paraguay                      9\n",
       "Peru                          9\n",
       "Philippines                   9\n",
       "Poland                        9\n",
       "Portugal                      9\n",
       "Puerto Rico                   1\n",
       "Qatar                         5\n",
       "Romania                       9\n",
       "Russia                        9\n",
       "Rwanda                        8\n",
       "Saudi Arabia                  9\n",
       "Senegal                       9\n",
       "Serbia                        9\n",
       "Sierra Leone                  9\n",
       "Singapore                     9\n",
       "Slovakia                      9\n",
       "Slovenia                      9\n",
       "Somalia                       4\n",
       "Somaliland Region             1\n",
       "Somaliland region             1\n",
       "South Africa                  9\n",
       "South Korea                   9\n",
       "South Sudan                   5\n",
       "Spain                         9\n",
       "Sri Lanka                     9\n",
       "State of Palestine            1\n",
       "Sudan                         4\n",
       "Suriname                      2\n",
       "Swaziland                     4\n",
       "Sweden                        9\n",
       "Switzerland                   9\n",
       "Syria                         5\n",
       "Taiwan Province of China      9\n",
       "Tajikistan                    9\n",
       "Tanzania                      9\n",
       "Thailand                      9\n",
       "Togo                          9\n",
       "Trinidad and Tobago           6\n",
       "Tunisia                       9\n",
       "Turkey                        8\n",
       "Turkiye                       1\n",
       "Turkmenistan                  8\n",
       "Uganda                        9\n",
       "Ukraine                       9\n",
       "United Arab Emirates          9\n",
       "United Kingdom                9\n",
       "United States                 9\n",
       "Uruguay                       9\n",
       "Uzbekistan                    9\n",
       "Venezuela                     9\n",
       "Vietnam                       9\n",
       "Yemen                         8\n",
       "Zambia                        9\n",
       "Zimbabwe                      9\n",
       "Name: count, dtype: int64"
      ]
     },
     "execution_count": 13,
     "metadata": {},
     "output_type": "execute_result"
    }
   ],
   "source": [
    "# list entries in country column\n",
    "whr_df['country'].value_counts().sort_index()"
   ]
  },
  {
   "cell_type": "markdown",
   "id": "de4da17a",
   "metadata": {},
   "source": [
    "Comment: After sorting alphabetically, there should be 9 values for each country, possibly fewer if a country wasn't included in some years. However, there should be none over 9, and a value under 5 should be checked for duplication or spelling error."
   ]
  },
  {
   "cell_type": "markdown",
   "id": "32795d98",
   "metadata": {},
   "source": [
    "Although several countries changed their name or are known by multiple names, I will rename them here to get one name per country for the purposes of consistency:\n",
    "Turkiye -> Turkey, Congo -> Congo (Brazzaville), Czechia -> Czech Republic, Eswatini -> Swaziland, Somaliland region -> Somaliland Region, State of Palestine -> Palestinian Territories, Taiwan Province of China -> Taiwan."
   ]
  },
  {
   "cell_type": "code",
   "execution_count": 14,
   "id": "2ef4ecf3",
   "metadata": {},
   "outputs": [],
   "source": [
    "whr_df['country'].replace({\"Turkiye\" : \"Turkey\"}, inplace = True)\n",
    "whr_df['country'].replace({\"Congo\" : \"Congo (Brazzaville)\"}, inplace = True)\n",
    "whr_df['country'].replace({\"Czechia\" : \"Czech Republic\", }, inplace = True)\n",
    "whr_df['country'].replace({\"Eswatini\" : \"Swaziland\", }, inplace = True)\n",
    "whr_df['country'].replace({\"Somaliland region\" : \"Somaliland Region\", }, inplace = True)\n",
    "whr_df['country'].replace({\"State of Palestine\" : \"Palestinian Territories\", }, inplace = True)\n",
    "whr_df['country'].replace({\"Taiwan Province of China\" : \"Taiwan\", }, inplace = True)"
   ]
  },
  {
   "cell_type": "markdown",
   "id": "2be6112b",
   "metadata": {},
   "source": [
    "Prior to 2018, there was a \"Cyprus\" and a \"North Cyprus\", in 2018 and 2019, there were 2 \"Cyprus\", and then in 2020, back to \"Cyprus\" and a \"North Cyprus\". The \"Cyprus\" with the low perception of corruption (<0.1) is the one that stays as \"Cyprus\", while the one with the higher perception of corruption (>0.1) becomes \"North Cyprus\"."
   ]
  },
  {
   "cell_type": "code",
   "execution_count": 15,
   "id": "4db38812",
   "metadata": {},
   "outputs": [],
   "source": [
    "whr_df.loc[(whr_df['country'] == \"Cyprus\") & (whr_df['year'] == 2018) & (whr_df['perceptions_of_corruption'] > 0.1), \"country\"] = \"Northern Cyprus\"\n",
    "whr_df.loc[(whr_df['country'] == \"Cyprus\") & (whr_df['year'] == 2019) & (whr_df['perceptions_of_corruption'] > 0.1), \"country\"] = \"Northern Cyprus\""
   ]
  },
  {
   "cell_type": "code",
   "execution_count": 16,
   "id": "2d2cef15",
   "metadata": {},
   "outputs": [],
   "source": [
    "# change some additional country names for consistency in Exercise 6.3\n",
    "whr_df[\"country\"].replace({\"Serbia\":\"Republic of Serbia\",\"Somaliland Region\": \"Somaliland\",\"North Cyprus\": \"Northern Cyprus\", \"North Macedonia\": \"Macedonia\"}, inplace=True)\n"
   ]
  },
  {
   "cell_type": "code",
   "execution_count": 18,
   "id": "4afee840",
   "metadata": {},
   "outputs": [
    {
     "data": {
      "text/plain": [
       "country\n",
       "Afghanistan                  9\n",
       "Albania                      9\n",
       "Algeria                      9\n",
       "Angola                       4\n",
       "Argentina                    9\n",
       "Armenia                      9\n",
       "Australia                    9\n",
       "Austria                      9\n",
       "Azerbaijan                   8\n",
       "Bahrain                      9\n",
       "Bangladesh                   9\n",
       "Belarus                      8\n",
       "Belgium                      9\n",
       "Belize                       3\n",
       "Benin                        9\n",
       "Bhutan                       5\n",
       "Bolivia                      9\n",
       "Bosnia and Herzegovina       9\n",
       "Botswana                     9\n",
       "Brazil                       9\n",
       "Bulgaria                     9\n",
       "Burkina Faso                 9\n",
       "Burundi                      7\n",
       "Cambodia                     9\n",
       "Cameroon                     9\n",
       "Canada                       9\n",
       "Central African Republic     5\n",
       "Chad                         9\n",
       "Chile                        9\n",
       "China                        9\n",
       "Colombia                     9\n",
       "Comoros                      7\n",
       "Congo (Brazzaville)          9\n",
       "Congo (Kinshasa)             7\n",
       "Costa Rica                   9\n",
       "Croatia                      9\n",
       "Cyprus                       9\n",
       "Czech Republic               9\n",
       "Denmark                      9\n",
       "Djibouti                     1\n",
       "Dominican Republic           9\n",
       "Ecuador                      9\n",
       "Egypt                        9\n",
       "El Salvador                  9\n",
       "Estonia                      9\n",
       "Ethiopia                     9\n",
       "Finland                      9\n",
       "France                       9\n",
       "Gabon                        9\n",
       "Gambia                       5\n",
       "Georgia                      9\n",
       "Germany                      9\n",
       "Ghana                        9\n",
       "Greece                       9\n",
       "Guatemala                    9\n",
       "Guinea                       9\n",
       "Haiti                        7\n",
       "Honduras                     9\n",
       "Hong Kong S.A.R. of China    9\n",
       "Hungary                      9\n",
       "Iceland                      9\n",
       "India                        9\n",
       "Indonesia                    9\n",
       "Iran                         9\n",
       "Iraq                         9\n",
       "Ireland                      9\n",
       "Israel                       9\n",
       "Italy                        9\n",
       "Ivory Coast                  9\n",
       "Jamaica                      9\n",
       "Japan                        9\n",
       "Jordan                       9\n",
       "Kazakhstan                   9\n",
       "Kenya                        9\n",
       "Kosovo                       9\n",
       "Kuwait                       8\n",
       "Kyrgyzstan                   9\n",
       "Laos                         8\n",
       "Latvia                       9\n",
       "Lebanon                      9\n",
       "Lesotho                      7\n",
       "Liberia                      9\n",
       "Libya                        8\n",
       "Lithuania                    9\n",
       "Luxembourg                   9\n",
       "Macedonia                    9\n",
       "Madagascar                   9\n",
       "Malawi                       9\n",
       "Malaysia                     9\n",
       "Maldives                     2\n",
       "Mali                         9\n",
       "Malta                        9\n",
       "Mauritania                   9\n",
       "Mauritius                    9\n",
       "Mexico                       9\n",
       "Moldova                      9\n",
       "Mongolia                     9\n",
       "Montenegro                   9\n",
       "Morocco                      9\n",
       "Mozambique                   8\n",
       "Myanmar                      9\n",
       "Namibia                      8\n",
       "Nepal                        9\n",
       "Netherlands                  9\n",
       "New Zealand                  9\n",
       "Nicaragua                    9\n",
       "Niger                        9\n",
       "Nigeria                      9\n",
       "Northern Cyprus              8\n",
       "Norway                       9\n",
       "Oman                         1\n",
       "Pakistan                     9\n",
       "Palestinian Territories      9\n",
       "Panama                       9\n",
       "Paraguay                     9\n",
       "Peru                         9\n",
       "Philippines                  9\n",
       "Poland                       9\n",
       "Portugal                     9\n",
       "Puerto Rico                  1\n",
       "Qatar                        5\n",
       "Republic of Serbia           9\n",
       "Romania                      9\n",
       "Russia                       9\n",
       "Rwanda                       8\n",
       "Saudi Arabia                 9\n",
       "Senegal                      9\n",
       "Sierra Leone                 9\n",
       "Singapore                    9\n",
       "Slovakia                     9\n",
       "Slovenia                     9\n",
       "Somalia                      4\n",
       "Somaliland                   2\n",
       "South Africa                 9\n",
       "South Korea                  9\n",
       "South Sudan                  5\n",
       "Spain                        9\n",
       "Sri Lanka                    9\n",
       "Sudan                        4\n",
       "Suriname                     2\n",
       "Swaziland                    5\n",
       "Sweden                       9\n",
       "Switzerland                  9\n",
       "Syria                        5\n",
       "Taiwan                       9\n",
       "Tajikistan                   9\n",
       "Tanzania                     9\n",
       "Thailand                     9\n",
       "Togo                         9\n",
       "Trinidad and Tobago          6\n",
       "Tunisia                      9\n",
       "Turkey                       9\n",
       "Turkmenistan                 8\n",
       "Uganda                       9\n",
       "Ukraine                      9\n",
       "United Arab Emirates         9\n",
       "United Kingdom               9\n",
       "United States                9\n",
       "Uruguay                      9\n",
       "Uzbekistan                   9\n",
       "Venezuela                    9\n",
       "Vietnam                      9\n",
       "Yemen                        8\n",
       "Zambia                       9\n",
       "Zimbabwe                     9\n",
       "Name: count, dtype: int64"
      ]
     },
     "execution_count": 18,
     "metadata": {},
     "output_type": "execute_result"
    }
   ],
   "source": [
    "# list entries in country column\n",
    "whr_df['country'].value_counts().sort_index()"
   ]
  },
  {
   "cell_type": "markdown",
   "id": "5e0b7db3",
   "metadata": {},
   "source": [
    "### Check for and address consistency in \"region\" column"
   ]
  },
  {
   "cell_type": "code",
   "execution_count": 19,
   "id": "2a8f07f7",
   "metadata": {},
   "outputs": [
    {
     "data": {
      "text/plain": [
       "region\n",
       "Africa                                  2\n",
       "Central and Eastern Europe            214\n",
       "Commonwealth of Independent States     44\n",
       "East Asia                              54\n",
       "Latin America and Caribbean           190\n",
       "Middle East and North Africa          161\n",
       "North America and ANZ                  36\n",
       "South Asia                             61\n",
       "Southeast Asia                         80\n",
       "Sub-Saharan Africa                    337\n",
       "Western Europe                        188\n",
       "Name: count, dtype: int64"
      ]
     },
     "execution_count": 19,
     "metadata": {},
     "output_type": "execute_result"
    }
   ],
   "source": [
    "# list entries in region column\n",
    "whr_df['region'].value_counts().sort_index()"
   ]
  },
  {
   "cell_type": "markdown",
   "id": "f7bb32de",
   "metadata": {},
   "source": [
    "Comment: one issue with the 2 countries in Africa."
   ]
  },
  {
   "cell_type": "code",
   "execution_count": 20,
   "id": "4bbd2ea1",
   "metadata": {},
   "outputs": [
    {
     "data": {
      "text/html": [
       "<div>\n",
       "<style scoped>\n",
       "    .dataframe tbody tr th:only-of-type {\n",
       "        vertical-align: middle;\n",
       "    }\n",
       "\n",
       "    .dataframe tbody tr th {\n",
       "        vertical-align: top;\n",
       "    }\n",
       "\n",
       "    .dataframe thead th {\n",
       "        text-align: right;\n",
       "    }\n",
       "</style>\n",
       "<table border=\"1\" class=\"dataframe\">\n",
       "  <thead>\n",
       "    <tr style=\"text-align: right;\">\n",
       "      <th></th>\n",
       "      <th>country</th>\n",
       "      <th>region</th>\n",
       "      <th>happiness_score</th>\n",
       "      <th>gdp_per_capita</th>\n",
       "      <th>social_support</th>\n",
       "      <th>healthy_life_expectancy</th>\n",
       "      <th>freedom_to_make_life_choices</th>\n",
       "      <th>generosity</th>\n",
       "      <th>perceptions_of_corruption</th>\n",
       "      <th>year</th>\n",
       "    </tr>\n",
       "  </thead>\n",
       "  <tbody>\n",
       "    <tr>\n",
       "      <th>90</th>\n",
       "      <td>Somaliland</td>\n",
       "      <td>Africa</td>\n",
       "      <td>5.06</td>\n",
       "      <td>0.19</td>\n",
       "      <td>0.95</td>\n",
       "      <td>0.44</td>\n",
       "      <td>0.47</td>\n",
       "      <td>0.50</td>\n",
       "      <td>0.40</td>\n",
       "      <td>2015</td>\n",
       "    </tr>\n",
       "    <tr>\n",
       "      <th>254</th>\n",
       "      <td>Somaliland</td>\n",
       "      <td>Africa</td>\n",
       "      <td>5.06</td>\n",
       "      <td>0.26</td>\n",
       "      <td>0.76</td>\n",
       "      <td>0.33</td>\n",
       "      <td>0.39</td>\n",
       "      <td>0.51</td>\n",
       "      <td>0.37</td>\n",
       "      <td>2016</td>\n",
       "    </tr>\n",
       "  </tbody>\n",
       "</table>\n",
       "</div>"
      ],
      "text/plain": [
       "        country  region  happiness_score  gdp_per_capita  social_support  \\\n",
       "90   Somaliland  Africa             5.06            0.19            0.95   \n",
       "254  Somaliland  Africa             5.06            0.26            0.76   \n",
       "\n",
       "     healthy_life_expectancy  freedom_to_make_life_choices  generosity  \\\n",
       "90                      0.44                          0.47        0.50   \n",
       "254                     0.33                          0.39        0.51   \n",
       "\n",
       "     perceptions_of_corruption  year  \n",
       "90                        0.40  2015  \n",
       "254                       0.37  2016  "
      ]
     },
     "execution_count": 20,
     "metadata": {},
     "output_type": "execute_result"
    }
   ],
   "source": [
    "# check which 2 countries they are:\n",
    "whr_df[whr_df['region'] == \"Africa\"]"
   ]
  },
  {
   "cell_type": "code",
   "execution_count": 21,
   "id": "0fefee9c",
   "metadata": {},
   "outputs": [],
   "source": [
    "# change their region to Sub-Saharan Africa:\n",
    "whr_df.loc[(whr_df['country'] == \"Somaliland Region\") & (whr_df['region'] == \"Africa\"), \"region\"] = \"Sub-Saharan Africa\""
   ]
  },
  {
   "cell_type": "code",
   "execution_count": 22,
   "id": "2b4c246b",
   "metadata": {},
   "outputs": [
    {
     "data": {
      "text/plain": [
       "region\n",
       "Africa                                  2\n",
       "Central and Eastern Europe            214\n",
       "Commonwealth of Independent States     44\n",
       "East Asia                              54\n",
       "Latin America and Caribbean           190\n",
       "Middle East and North Africa          161\n",
       "North America and ANZ                  36\n",
       "South Asia                             61\n",
       "Southeast Asia                         80\n",
       "Sub-Saharan Africa                    337\n",
       "Western Europe                        188\n",
       "Name: count, dtype: int64"
      ]
     },
     "execution_count": 22,
     "metadata": {},
     "output_type": "execute_result"
    }
   ],
   "source": [
    "# list entries in region column\n",
    "whr_df['region'].value_counts().sort_index()"
   ]
  },
  {
   "cell_type": "markdown",
   "id": "2c29fa99",
   "metadata": {},
   "source": [
    "### Check for and address duplicates"
   ]
  },
  {
   "cell_type": "code",
   "execution_count": 23,
   "id": "ab7f2143",
   "metadata": {},
   "outputs": [
    {
     "data": {
      "text/html": [
       "<div>\n",
       "<style scoped>\n",
       "    .dataframe tbody tr th:only-of-type {\n",
       "        vertical-align: middle;\n",
       "    }\n",
       "\n",
       "    .dataframe tbody tr th {\n",
       "        vertical-align: top;\n",
       "    }\n",
       "\n",
       "    .dataframe thead th {\n",
       "        text-align: right;\n",
       "    }\n",
       "</style>\n",
       "<table border=\"1\" class=\"dataframe\">\n",
       "  <thead>\n",
       "    <tr style=\"text-align: right;\">\n",
       "      <th></th>\n",
       "      <th>country</th>\n",
       "      <th>region</th>\n",
       "      <th>happiness_score</th>\n",
       "      <th>gdp_per_capita</th>\n",
       "      <th>social_support</th>\n",
       "      <th>healthy_life_expectancy</th>\n",
       "      <th>freedom_to_make_life_choices</th>\n",
       "      <th>generosity</th>\n",
       "      <th>perceptions_of_corruption</th>\n",
       "      <th>year</th>\n",
       "    </tr>\n",
       "  </thead>\n",
       "  <tbody>\n",
       "  </tbody>\n",
       "</table>\n",
       "</div>"
      ],
      "text/plain": [
       "Empty DataFrame\n",
       "Columns: [country, region, happiness_score, gdp_per_capita, social_support, healthy_life_expectancy, freedom_to_make_life_choices, generosity, perceptions_of_corruption, year]\n",
       "Index: []"
      ]
     },
     "execution_count": 23,
     "metadata": {},
     "output_type": "execute_result"
    }
   ],
   "source": [
    "whr_df[whr_df.duplicated()]"
   ]
  },
  {
   "cell_type": "markdown",
   "id": "3839733f",
   "metadata": {},
   "source": [
    "Comment: there are no duplicates."
   ]
  },
  {
   "cell_type": "markdown",
   "id": "d4289ca0",
   "metadata": {},
   "source": [
    "### Check for and address missing data"
   ]
  },
  {
   "cell_type": "code",
   "execution_count": 24,
   "id": "b0c30c0e",
   "metadata": {},
   "outputs": [
    {
     "data": {
      "text/plain": [
       "country                         0\n",
       "region                          0\n",
       "happiness_score                 0\n",
       "gdp_per_capita                  0\n",
       "social_support                  0\n",
       "healthy_life_expectancy         1\n",
       "freedom_to_make_life_choices    0\n",
       "generosity                      0\n",
       "perceptions_of_corruption       1\n",
       "year                            0\n",
       "dtype: int64"
      ]
     },
     "execution_count": 24,
     "metadata": {},
     "output_type": "execute_result"
    }
   ],
   "source": [
    "whr_df.isnull().sum()"
   ]
  },
  {
   "cell_type": "code",
   "execution_count": 25,
   "id": "9a5c7a63",
   "metadata": {},
   "outputs": [
    {
     "data": {
      "text/html": [
       "<div>\n",
       "<style scoped>\n",
       "    .dataframe tbody tr th:only-of-type {\n",
       "        vertical-align: middle;\n",
       "    }\n",
       "\n",
       "    .dataframe tbody tr th {\n",
       "        vertical-align: top;\n",
       "    }\n",
       "\n",
       "    .dataframe thead th {\n",
       "        text-align: right;\n",
       "    }\n",
       "</style>\n",
       "<table border=\"1\" class=\"dataframe\">\n",
       "  <thead>\n",
       "    <tr style=\"text-align: right;\">\n",
       "      <th></th>\n",
       "      <th>country</th>\n",
       "      <th>region</th>\n",
       "      <th>happiness_score</th>\n",
       "      <th>gdp_per_capita</th>\n",
       "      <th>social_support</th>\n",
       "      <th>healthy_life_expectancy</th>\n",
       "      <th>freedom_to_make_life_choices</th>\n",
       "      <th>generosity</th>\n",
       "      <th>perceptions_of_corruption</th>\n",
       "      <th>year</th>\n",
       "    </tr>\n",
       "  </thead>\n",
       "  <tbody>\n",
       "    <tr>\n",
       "      <th>1328</th>\n",
       "      <td>Palestinian Territories</td>\n",
       "      <td>Middle East and North Africa</td>\n",
       "      <td>4.91</td>\n",
       "      <td>1.14</td>\n",
       "      <td>1.31</td>\n",
       "      <td>NaN</td>\n",
       "      <td>0.42</td>\n",
       "      <td>0.07</td>\n",
       "      <td>0.07</td>\n",
       "      <td>2023</td>\n",
       "    </tr>\n",
       "  </tbody>\n",
       "</table>\n",
       "</div>"
      ],
      "text/plain": [
       "                      country                        region  happiness_score  \\\n",
       "1328  Palestinian Territories  Middle East and North Africa             4.91   \n",
       "\n",
       "      gdp_per_capita  social_support  healthy_life_expectancy  \\\n",
       "1328            1.14            1.31                      NaN   \n",
       "\n",
       "      freedom_to_make_life_choices  generosity  perceptions_of_corruption  \\\n",
       "1328                          0.42        0.07                       0.07   \n",
       "\n",
       "      year  \n",
       "1328  2023  "
      ]
     },
     "execution_count": 25,
     "metadata": {},
     "output_type": "execute_result"
    }
   ],
   "source": [
    "# which country is missing \"healthy_life_expectancy\"\n",
    "whr_df[whr_df['healthy_life_expectancy'].isnull()]"
   ]
  },
  {
   "cell_type": "code",
   "execution_count": 26,
   "id": "719cb3bc",
   "metadata": {},
   "outputs": [],
   "source": [
    "# replace the NaN with the average of \"healthy_life_expectancy\" for Palestinian Territories\n",
    "mean_hle = whr_df.loc[(whr_df[\"country\"] == \"Palestinian Territories\"), 'healthy_life_expectancy'].mean()\n",
    "whr_df['healthy_life_expectancy'].fillna(mean_hle, inplace = True)"
   ]
  },
  {
   "cell_type": "code",
   "execution_count": 27,
   "id": "bbb0817a",
   "metadata": {},
   "outputs": [
    {
     "data": {
      "text/html": [
       "<div>\n",
       "<style scoped>\n",
       "    .dataframe tbody tr th:only-of-type {\n",
       "        vertical-align: middle;\n",
       "    }\n",
       "\n",
       "    .dataframe tbody tr th {\n",
       "        vertical-align: top;\n",
       "    }\n",
       "\n",
       "    .dataframe thead th {\n",
       "        text-align: right;\n",
       "    }\n",
       "</style>\n",
       "<table border=\"1\" class=\"dataframe\">\n",
       "  <thead>\n",
       "    <tr style=\"text-align: right;\">\n",
       "      <th></th>\n",
       "      <th>country</th>\n",
       "      <th>region</th>\n",
       "      <th>happiness_score</th>\n",
       "      <th>gdp_per_capita</th>\n",
       "      <th>social_support</th>\n",
       "      <th>healthy_life_expectancy</th>\n",
       "      <th>freedom_to_make_life_choices</th>\n",
       "      <th>generosity</th>\n",
       "      <th>perceptions_of_corruption</th>\n",
       "      <th>year</th>\n",
       "    </tr>\n",
       "  </thead>\n",
       "  <tbody>\n",
       "    <tr>\n",
       "      <th>489</th>\n",
       "      <td>United Arab Emirates</td>\n",
       "      <td>Middle East and North Africa</td>\n",
       "      <td>6.77</td>\n",
       "      <td>2.1</td>\n",
       "      <td>0.78</td>\n",
       "      <td>0.67</td>\n",
       "      <td>0.28</td>\n",
       "      <td>0.19</td>\n",
       "      <td>NaN</td>\n",
       "      <td>2018</td>\n",
       "    </tr>\n",
       "  </tbody>\n",
       "</table>\n",
       "</div>"
      ],
      "text/plain": [
       "                  country                        region  happiness_score  \\\n",
       "489  United Arab Emirates  Middle East and North Africa             6.77   \n",
       "\n",
       "     gdp_per_capita  social_support  healthy_life_expectancy  \\\n",
       "489             2.1            0.78                     0.67   \n",
       "\n",
       "     freedom_to_make_life_choices  generosity  perceptions_of_corruption  year  \n",
       "489                          0.28        0.19                        NaN  2018  "
      ]
     },
     "execution_count": 27,
     "metadata": {},
     "output_type": "execute_result"
    }
   ],
   "source": [
    "# which country is missing \"perceptions_of_corruption\"\n",
    "whr_df[whr_df['perceptions_of_corruption'].isnull()]"
   ]
  },
  {
   "cell_type": "code",
   "execution_count": 28,
   "id": "0e7d6dd3",
   "metadata": {},
   "outputs": [],
   "source": [
    "# replace the NaN with the average of \"perceptions_of_corruption\" for United Arab Emirates\n",
    "mean_poc = whr_df.loc[(whr_df[\"country\"] == \"United Arab Emirates\"), 'perceptions_of_corruption'].mean()\n",
    "whr_df['perceptions_of_corruption'].fillna(mean_poc, inplace = True)"
   ]
  },
  {
   "cell_type": "code",
   "execution_count": 29,
   "id": "377e5220",
   "metadata": {},
   "outputs": [
    {
     "data": {
      "text/plain": [
       "country                         0\n",
       "region                          0\n",
       "happiness_score                 0\n",
       "gdp_per_capita                  0\n",
       "social_support                  0\n",
       "healthy_life_expectancy         0\n",
       "freedom_to_make_life_choices    0\n",
       "generosity                      0\n",
       "perceptions_of_corruption       0\n",
       "year                            0\n",
       "dtype: int64"
      ]
     },
     "execution_count": 29,
     "metadata": {},
     "output_type": "execute_result"
    }
   ],
   "source": [
    "whr_df.isnull().sum()"
   ]
  },
  {
   "cell_type": "markdown",
   "id": "5b1521f2",
   "metadata": {},
   "source": [
    "Comment: 2 missing values were found and imputed with the average values for the column for the country that was missing the value."
   ]
  },
  {
   "cell_type": "markdown",
   "id": "abaf6dd0",
   "metadata": {},
   "source": [
    "### Check for and address datatype consistency per column"
   ]
  },
  {
   "cell_type": "code",
   "execution_count": 30,
   "id": "68893ae2",
   "metadata": {},
   "outputs": [
    {
     "name": "stdout",
     "output_type": "stream",
     "text": [
      "consistent\n",
      "consistent\n",
      "consistent\n",
      "consistent\n",
      "consistent\n",
      "consistent\n",
      "consistent\n",
      "consistent\n",
      "consistent\n",
      "consistent\n"
     ]
    },
    {
     "name": "stderr",
     "output_type": "stream",
     "text": [
      "/var/folders/s0/b631rndx6sv1py5f9s6wc7y00000gn/T/ipykernel_3361/158766909.py:3: FutureWarning: DataFrame.applymap has been deprecated. Use DataFrame.map instead.\n",
      "  weird = (whr_df[[col]].applymap(type) != whr_df[[col]].iloc[0].apply(type)).any(axis = 1)\n",
      "/var/folders/s0/b631rndx6sv1py5f9s6wc7y00000gn/T/ipykernel_3361/158766909.py:3: FutureWarning: DataFrame.applymap has been deprecated. Use DataFrame.map instead.\n",
      "  weird = (whr_df[[col]].applymap(type) != whr_df[[col]].iloc[0].apply(type)).any(axis = 1)\n",
      "/var/folders/s0/b631rndx6sv1py5f9s6wc7y00000gn/T/ipykernel_3361/158766909.py:3: FutureWarning: DataFrame.applymap has been deprecated. Use DataFrame.map instead.\n",
      "  weird = (whr_df[[col]].applymap(type) != whr_df[[col]].iloc[0].apply(type)).any(axis = 1)\n",
      "/var/folders/s0/b631rndx6sv1py5f9s6wc7y00000gn/T/ipykernel_3361/158766909.py:3: FutureWarning: DataFrame.applymap has been deprecated. Use DataFrame.map instead.\n",
      "  weird = (whr_df[[col]].applymap(type) != whr_df[[col]].iloc[0].apply(type)).any(axis = 1)\n",
      "/var/folders/s0/b631rndx6sv1py5f9s6wc7y00000gn/T/ipykernel_3361/158766909.py:3: FutureWarning: DataFrame.applymap has been deprecated. Use DataFrame.map instead.\n",
      "  weird = (whr_df[[col]].applymap(type) != whr_df[[col]].iloc[0].apply(type)).any(axis = 1)\n",
      "/var/folders/s0/b631rndx6sv1py5f9s6wc7y00000gn/T/ipykernel_3361/158766909.py:3: FutureWarning: DataFrame.applymap has been deprecated. Use DataFrame.map instead.\n",
      "  weird = (whr_df[[col]].applymap(type) != whr_df[[col]].iloc[0].apply(type)).any(axis = 1)\n",
      "/var/folders/s0/b631rndx6sv1py5f9s6wc7y00000gn/T/ipykernel_3361/158766909.py:3: FutureWarning: DataFrame.applymap has been deprecated. Use DataFrame.map instead.\n",
      "  weird = (whr_df[[col]].applymap(type) != whr_df[[col]].iloc[0].apply(type)).any(axis = 1)\n",
      "/var/folders/s0/b631rndx6sv1py5f9s6wc7y00000gn/T/ipykernel_3361/158766909.py:3: FutureWarning: DataFrame.applymap has been deprecated. Use DataFrame.map instead.\n",
      "  weird = (whr_df[[col]].applymap(type) != whr_df[[col]].iloc[0].apply(type)).any(axis = 1)\n",
      "/var/folders/s0/b631rndx6sv1py5f9s6wc7y00000gn/T/ipykernel_3361/158766909.py:3: FutureWarning: DataFrame.applymap has been deprecated. Use DataFrame.map instead.\n",
      "  weird = (whr_df[[col]].applymap(type) != whr_df[[col]].iloc[0].apply(type)).any(axis = 1)\n",
      "/var/folders/s0/b631rndx6sv1py5f9s6wc7y00000gn/T/ipykernel_3361/158766909.py:3: FutureWarning: DataFrame.applymap has been deprecated. Use DataFrame.map instead.\n",
      "  weird = (whr_df[[col]].applymap(type) != whr_df[[col]].iloc[0].apply(type)).any(axis = 1)\n"
     ]
    }
   ],
   "source": [
    "# check each column for mixed datatypes\n",
    "for col in whr_df.columns.tolist():\n",
    "  weird = (whr_df[[col]].applymap(type) != whr_df[[col]].iloc[0].apply(type)).any(axis = 1)\n",
    "  if len (whr_df[weird]) > 0:\n",
    "    print (col)\n",
    "  else:\n",
    "    print('consistent')"
   ]
  },
  {
   "cell_type": "markdown",
   "id": "d0bc5797",
   "metadata": {},
   "source": [
    "Comment: no columns with mixed datatypes found."
   ]
  },
  {
   "cell_type": "markdown",
   "id": "11b11343",
   "metadata": {},
   "source": [
    "## Data profiling"
   ]
  },
  {
   "cell_type": "markdown",
   "id": "23ffcc3e",
   "metadata": {},
   "source": [
    "### Descriptive Stats"
   ]
  },
  {
   "cell_type": "code",
   "execution_count": 31,
   "id": "4c943cfb",
   "metadata": {},
   "outputs": [
    {
     "data": {
      "text/html": [
       "<div>\n",
       "<style scoped>\n",
       "    .dataframe tbody tr th:only-of-type {\n",
       "        vertical-align: middle;\n",
       "    }\n",
       "\n",
       "    .dataframe tbody tr th {\n",
       "        vertical-align: top;\n",
       "    }\n",
       "\n",
       "    .dataframe thead th {\n",
       "        text-align: right;\n",
       "    }\n",
       "</style>\n",
       "<table border=\"1\" class=\"dataframe\">\n",
       "  <thead>\n",
       "    <tr style=\"text-align: right;\">\n",
       "      <th></th>\n",
       "      <th>happiness_score</th>\n",
       "      <th>gdp_per_capita</th>\n",
       "      <th>social_support</th>\n",
       "      <th>healthy_life_expectancy</th>\n",
       "      <th>freedom_to_make_life_choices</th>\n",
       "      <th>generosity</th>\n",
       "      <th>perceptions_of_corruption</th>\n",
       "      <th>year</th>\n",
       "    </tr>\n",
       "  </thead>\n",
       "  <tbody>\n",
       "    <tr>\n",
       "      <th>count</th>\n",
       "      <td>1367.00</td>\n",
       "      <td>1367.00</td>\n",
       "      <td>1367.00</td>\n",
       "      <td>1367.00</td>\n",
       "      <td>1367.00</td>\n",
       "      <td>1367.00</td>\n",
       "      <td>1367.00</td>\n",
       "      <td>1367.00</td>\n",
       "    </tr>\n",
       "    <tr>\n",
       "      <th>mean</th>\n",
       "      <td>5.44</td>\n",
       "      <td>1.02</td>\n",
       "      <td>1.05</td>\n",
       "      <td>0.58</td>\n",
       "      <td>0.45</td>\n",
       "      <td>0.20</td>\n",
       "      <td>0.13</td>\n",
       "      <td>2018.90</td>\n",
       "    </tr>\n",
       "    <tr>\n",
       "      <th>std</th>\n",
       "      <td>1.12</td>\n",
       "      <td>0.45</td>\n",
       "      <td>0.33</td>\n",
       "      <td>0.25</td>\n",
       "      <td>0.16</td>\n",
       "      <td>0.11</td>\n",
       "      <td>0.11</td>\n",
       "      <td>2.56</td>\n",
       "    </tr>\n",
       "    <tr>\n",
       "      <th>min</th>\n",
       "      <td>1.86</td>\n",
       "      <td>0.00</td>\n",
       "      <td>0.00</td>\n",
       "      <td>0.00</td>\n",
       "      <td>0.00</td>\n",
       "      <td>0.00</td>\n",
       "      <td>0.00</td>\n",
       "      <td>2015.00</td>\n",
       "    </tr>\n",
       "    <tr>\n",
       "      <th>25%</th>\n",
       "      <td>4.60</td>\n",
       "      <td>0.70</td>\n",
       "      <td>0.83</td>\n",
       "      <td>0.40</td>\n",
       "      <td>0.36</td>\n",
       "      <td>0.12</td>\n",
       "      <td>0.06</td>\n",
       "      <td>2017.00</td>\n",
       "    </tr>\n",
       "    <tr>\n",
       "      <th>50%</th>\n",
       "      <td>5.44</td>\n",
       "      <td>1.04</td>\n",
       "      <td>1.08</td>\n",
       "      <td>0.61</td>\n",
       "      <td>0.47</td>\n",
       "      <td>0.18</td>\n",
       "      <td>0.10</td>\n",
       "      <td>2019.00</td>\n",
       "    </tr>\n",
       "    <tr>\n",
       "      <th>75%</th>\n",
       "      <td>6.26</td>\n",
       "      <td>1.34</td>\n",
       "      <td>1.30</td>\n",
       "      <td>0.78</td>\n",
       "      <td>0.57</td>\n",
       "      <td>0.25</td>\n",
       "      <td>0.17</td>\n",
       "      <td>2021.00</td>\n",
       "    </tr>\n",
       "    <tr>\n",
       "      <th>max</th>\n",
       "      <td>7.84</td>\n",
       "      <td>2.21</td>\n",
       "      <td>1.64</td>\n",
       "      <td>1.14</td>\n",
       "      <td>0.77</td>\n",
       "      <td>0.84</td>\n",
       "      <td>0.59</td>\n",
       "      <td>2023.00</td>\n",
       "    </tr>\n",
       "  </tbody>\n",
       "</table>\n",
       "</div>"
      ],
      "text/plain": [
       "       happiness_score  gdp_per_capita  social_support  \\\n",
       "count          1367.00         1367.00         1367.00   \n",
       "mean              5.44            1.02            1.05   \n",
       "std               1.12            0.45            0.33   \n",
       "min               1.86            0.00            0.00   \n",
       "25%               4.60            0.70            0.83   \n",
       "50%               5.44            1.04            1.08   \n",
       "75%               6.26            1.34            1.30   \n",
       "max               7.84            2.21            1.64   \n",
       "\n",
       "       healthy_life_expectancy  freedom_to_make_life_choices  generosity  \\\n",
       "count                  1367.00                       1367.00     1367.00   \n",
       "mean                      0.58                          0.45        0.20   \n",
       "std                       0.25                          0.16        0.11   \n",
       "min                       0.00                          0.00        0.00   \n",
       "25%                       0.40                          0.36        0.12   \n",
       "50%                       0.61                          0.47        0.18   \n",
       "75%                       0.78                          0.57        0.25   \n",
       "max                       1.14                          0.77        0.84   \n",
       "\n",
       "       perceptions_of_corruption     year  \n",
       "count                    1367.00  1367.00  \n",
       "mean                        0.13  2018.90  \n",
       "std                         0.11     2.56  \n",
       "min                         0.00  2015.00  \n",
       "25%                         0.06  2017.00  \n",
       "50%                         0.10  2019.00  \n",
       "75%                         0.17  2021.00  \n",
       "max                         0.59  2023.00  "
      ]
     },
     "execution_count": 31,
     "metadata": {},
     "output_type": "execute_result"
    }
   ],
   "source": [
    "whr_df.describe()"
   ]
  },
  {
   "cell_type": "markdown",
   "id": "741dc26e",
   "metadata": {},
   "source": [
    "### Datatypes"
   ]
  },
  {
   "cell_type": "code",
   "execution_count": 32,
   "id": "977a27ee",
   "metadata": {},
   "outputs": [
    {
     "name": "stdout",
     "output_type": "stream",
     "text": [
      "<class 'pandas.core.frame.DataFrame'>\n",
      "RangeIndex: 1367 entries, 0 to 1366\n",
      "Data columns (total 10 columns):\n",
      " #   Column                        Non-Null Count  Dtype  \n",
      "---  ------                        --------------  -----  \n",
      " 0   country                       1367 non-null   object \n",
      " 1   region                        1367 non-null   object \n",
      " 2   happiness_score               1367 non-null   float64\n",
      " 3   gdp_per_capita                1367 non-null   float64\n",
      " 4   social_support                1367 non-null   float64\n",
      " 5   healthy_life_expectancy       1367 non-null   float64\n",
      " 6   freedom_to_make_life_choices  1367 non-null   float64\n",
      " 7   generosity                    1367 non-null   float64\n",
      " 8   perceptions_of_corruption     1367 non-null   float64\n",
      " 9   year                          1367 non-null   int64  \n",
      "dtypes: float64(7), int64(1), object(2)\n",
      "memory usage: 106.9+ KB\n"
     ]
    }
   ],
   "source": [
    "whr_df.info()"
   ]
  },
  {
   "cell_type": "markdown",
   "id": "8fc28adc",
   "metadata": {},
   "source": [
    "### Count of missing values"
   ]
  },
  {
   "cell_type": "code",
   "execution_count": 33,
   "id": "7063d013",
   "metadata": {},
   "outputs": [
    {
     "data": {
      "text/plain": [
       "country                         0\n",
       "region                          0\n",
       "happiness_score                 0\n",
       "gdp_per_capita                  0\n",
       "social_support                  0\n",
       "healthy_life_expectancy         0\n",
       "freedom_to_make_life_choices    0\n",
       "generosity                      0\n",
       "perceptions_of_corruption       0\n",
       "year                            0\n",
       "dtype: int64"
      ]
     },
     "execution_count": 33,
     "metadata": {},
     "output_type": "execute_result"
    }
   ],
   "source": [
    "whr_df.isnull().sum()"
   ]
  },
  {
   "cell_type": "markdown",
   "id": "eec1720a",
   "metadata": {},
   "source": [
    "### Data quality issues"
   ]
  },
  {
   "cell_type": "markdown",
   "id": "eafc33d0",
   "metadata": {},
   "source": [
    "Comment: The after renaming some countries and regions for consistency, and filling in 2 missing values (see above in the \"Data Cleaning\" section), there are no obvious data quality issues."
   ]
  },
  {
   "cell_type": "markdown",
   "id": "896e4d13",
   "metadata": {},
   "source": [
    "### Distribution of values"
   ]
  },
  {
   "cell_type": "markdown",
   "id": "b581b8fb",
   "metadata": {},
   "source": [
    "Comment: For categorical variable columns, show value counts. For continuous variable columns, show histograms."
   ]
  },
  {
   "cell_type": "code",
   "execution_count": 34,
   "id": "a0317d69",
   "metadata": {},
   "outputs": [
    {
     "data": {
      "text/plain": [
       "country\n",
       "Switzerland                  9\n",
       "Honduras                     9\n",
       "Bosnia and Herzegovina       9\n",
       "Dominican Republic           9\n",
       "Mongolia                     9\n",
       "Greece                       9\n",
       "Lebanon                      9\n",
       "Hungary                      9\n",
       "Tajikistan                   9\n",
       "Macedonia                    9\n",
       "Tunisia                      9\n",
       "Palestinian Territories      9\n",
       "Bangladesh                   9\n",
       "Iran                         9\n",
       "Ukraine                      9\n",
       "Iraq                         9\n",
       "Albania                      9\n",
       "Morocco                      9\n",
       "Hong Kong S.A.R. of China    9\n",
       "Jordan                       9\n",
       "Indonesia                    9\n",
       "Vietnam                      9\n",
       "Turkey                       9\n",
       "Kyrgyzstan                   9\n",
       "Nigeria                      9\n",
       "Pakistan                     9\n",
       "Iceland                      9\n",
       "Philippines                  9\n",
       "China                        9\n",
       "Zambia                       9\n",
       "Romania                      9\n",
       "Republic of Serbia           9\n",
       "Portugal                     9\n",
       "Latvia                       9\n",
       "South Africa                 9\n",
       "Ghana                        9\n",
       "Zimbabwe                     9\n",
       "Madagascar                   9\n",
       "Uganda                       9\n",
       "Senegal                      9\n",
       "Gabon                        9\n",
       "Niger                        9\n",
       "Cambodia                     9\n",
       "Tanzania                     9\n",
       "Chad                         9\n",
       "Liberia                      9\n",
       "Guinea                       9\n",
       "Ivory Coast                  9\n",
       "Burkina Faso                 9\n",
       "Afghanistan                  9\n",
       "Benin                        9\n",
       "Togo                         9\n",
       "Congo (Brazzaville)          9\n",
       "Mali                         9\n",
       "Egypt                        9\n",
       "Bulgaria                     9\n",
       "Cameroon                     9\n",
       "Sri Lanka                    9\n",
       "Malawi                       9\n",
       "Georgia                      9\n",
       "Myanmar                      9\n",
       "Botswana                     9\n",
       "Armenia                      9\n",
       "Kenya                        9\n",
       "Mauritania                   9\n",
       "Sierra Leone                 9\n",
       "Ethiopia                     9\n",
       "Nepal                        9\n",
       "India                        9\n",
       "Estonia                      9\n",
       "Montenegro                   9\n",
       "Mauritius                    9\n",
       "Colombia                     9\n",
       "France                       9\n",
       "Argentina                    9\n",
       "Czech Republic               9\n",
       "Uruguay                      9\n",
       "Netherlands                  9\n",
       "Finland                      9\n",
       "Thailand                     9\n",
       "Uzbekistan                   9\n",
       "Saudi Arabia                 9\n",
       "Spain                        9\n",
       "Malta                        9\n",
       "Taiwan                       9\n",
       "Canada                       9\n",
       "Austria                      9\n",
       "Sweden                       9\n",
       "New Zealand                  9\n",
       "Chile                        9\n",
       "Germany                      9\n",
       "Panama                       9\n",
       "Singapore                    9\n",
       "Venezuela                    9\n",
       "Australia                    9\n",
       "United Kingdom               9\n",
       "United Arab Emirates         9\n",
       "Belgium                      9\n",
       "Israel                       9\n",
       "Ireland                      9\n",
       "Luxembourg                   9\n",
       "Costa Rica                   9\n",
       "Brazil                       9\n",
       "United States                9\n",
       "Guatemala                    9\n",
       "El Salvador                  9\n",
       "Slovakia                     9\n",
       "Kazakhstan                   9\n",
       "Kosovo                       9\n",
       "Algeria                      9\n",
       "Cyprus                       9\n",
       "Jamaica                      9\n",
       "Russia                       9\n",
       "Croatia                      9\n",
       "Malaysia                     9\n",
       "Poland                       9\n",
       "Peru                         9\n",
       "Nicaragua                    9\n",
       "Lithuania                    9\n",
       "Japan                        9\n",
       "Denmark                      9\n",
       "Slovenia                     9\n",
       "Paraguay                     9\n",
       "Italy                        9\n",
       "South Korea                  9\n",
       "Ecuador                      9\n",
       "Norway                       9\n",
       "Bahrain                      9\n",
       "Mexico                       9\n",
       "Bolivia                      9\n",
       "Moldova                      9\n",
       "Belarus                      8\n",
       "Laos                         8\n",
       "Mozambique                   8\n",
       "Azerbaijan                   8\n",
       "Yemen                        8\n",
       "Namibia                      8\n",
       "Turkmenistan                 8\n",
       "Northern Cyprus              8\n",
       "Kuwait                       8\n",
       "Rwanda                       8\n",
       "Libya                        8\n",
       "Burundi                      7\n",
       "Haiti                        7\n",
       "Comoros                      7\n",
       "Lesotho                      7\n",
       "Congo (Kinshasa)             7\n",
       "Trinidad and Tobago          6\n",
       "Gambia                       5\n",
       "South Sudan                  5\n",
       "Bhutan                       5\n",
       "Syria                        5\n",
       "Swaziland                    5\n",
       "Qatar                        5\n",
       "Central African Republic     5\n",
       "Angola                       4\n",
       "Sudan                        4\n",
       "Somalia                      4\n",
       "Belize                       3\n",
       "Suriname                     2\n",
       "Somaliland                   2\n",
       "Maldives                     2\n",
       "Puerto Rico                  1\n",
       "Djibouti                     1\n",
       "Oman                         1\n",
       "Name: count, dtype: int64"
      ]
     },
     "execution_count": 34,
     "metadata": {},
     "output_type": "execute_result"
    }
   ],
   "source": [
    "# Value counts for \"country\"\n",
    "whr_df['country'].value_counts()"
   ]
  },
  {
   "cell_type": "code",
   "execution_count": 35,
   "id": "59c1d539",
   "metadata": {},
   "outputs": [
    {
     "data": {
      "text/plain": [
       "region\n",
       "Sub-Saharan Africa                    337\n",
       "Central and Eastern Europe            214\n",
       "Latin America and Caribbean           190\n",
       "Western Europe                        188\n",
       "Middle East and North Africa          161\n",
       "Southeast Asia                         80\n",
       "South Asia                             61\n",
       "East Asia                              54\n",
       "Commonwealth of Independent States     44\n",
       "North America and ANZ                  36\n",
       "Africa                                  2\n",
       "Name: count, dtype: int64"
      ]
     },
     "execution_count": 35,
     "metadata": {},
     "output_type": "execute_result"
    }
   ],
   "source": [
    "# Value counts for \"region\"\n",
    "whr_df['region'].value_counts()"
   ]
  },
  {
   "cell_type": "code",
   "execution_count": 36,
   "id": "5968dffe",
   "metadata": {},
   "outputs": [
    {
     "data": {
      "text/plain": [
       "<Axes: >"
      ]
     },
     "execution_count": 36,
     "metadata": {},
     "output_type": "execute_result"
    },
    {
     "data": {
      "image/png": "[encoded data removed]",
      "text/plain": [
       "<Figure size 640x480 with 1 Axes>"
      ]
     },
     "metadata": {},
     "output_type": "display_data"
    }
   ],
   "source": [
    "# Frequency counts for \"happiness_score\"\n",
    "whr_df['happiness_score'].hist()"
   ]
  },
  {
   "cell_type": "code",
   "execution_count": 37,
   "id": "6d8514ca",
   "metadata": {},
   "outputs": [
    {
     "data": {
      "text/plain": [
       "<Axes: >"
      ]
     },
     "execution_count": 37,
     "metadata": {},
     "output_type": "execute_result"
    },
    {
     "data": {
      "image/png": "[encoded data removed]",
      "text/plain": [
       "<Figure size 640x480 with 1 Axes>"
      ]
     },
     "metadata": {},
     "output_type": "display_data"
    }
   ],
   "source": [
    "# Frequency counts for \"gdp_per_capita\"\n",
    "whr_df['gdp_per_capita'].hist()"
   ]
  },
  {
   "cell_type": "code",
   "execution_count": 38,
   "id": "a40cc863",
   "metadata": {},
   "outputs": [
    {
     "data": {
      "text/plain": [
       "<Axes: >"
      ]
     },
     "execution_count": 38,
     "metadata": {},
     "output_type": "execute_result"
    },
    {
     "data": {
      "image/png": "[encoded data removed]",
      "text/plain": [
       "<Figure size 640x480 with 1 Axes>"
      ]
     },
     "metadata": {},
     "output_type": "display_data"
    }
   ],
   "source": [
    "# Frequency counts for \"social_support\"\n",
    "whr_df['social_support'].hist()"
   ]
  },
  {
   "cell_type": "code",
   "execution_count": 39,
   "id": "1bb8559e",
   "metadata": {},
   "outputs": [
    {
     "data": {
      "text/plain": [
       "<Axes: >"
      ]
     },
     "execution_count": 39,
     "metadata": {},
     "output_type": "execute_result"
    },
    {
     "data": {
      "image/png": "[encoded data removed]",
      "text/plain": [
       "<Figure size 640x480 with 1 Axes>"
      ]
     },
     "metadata": {},
     "output_type": "display_data"
    }
   ],
   "source": [
    "# Frequency counts for \"healthy_life_expectancy\"\n",
    "whr_df['healthy_life_expectancy'].hist()"
   ]
  },
  {
   "cell_type": "code",
   "execution_count": 40,
   "id": "b32e419e",
   "metadata": {},
   "outputs": [
    {
     "data": {
      "text/plain": [
       "<Axes: >"
      ]
     },
     "execution_count": 40,
     "metadata": {},
     "output_type": "execute_result"
    },
    {
     "data": {
      "image/png": "[encoded data removed]",
      "text/plain": [
       "<Figure size 640x480 with 1 Axes>"
      ]
     },
     "metadata": {},
     "output_type": "display_data"
    }
   ],
   "source": [
    "# Frequency counts for \"freedom_to_make_life_choices\"\n",
    "whr_df['freedom_to_make_life_choices'].hist()"
   ]
  },
  {
   "cell_type": "code",
   "execution_count": 41,
   "id": "a8973427",
   "metadata": {},
   "outputs": [
    {
     "data": {
      "text/plain": [
       "<Axes: >"
      ]
     },
     "execution_count": 41,
     "metadata": {},
     "output_type": "execute_result"
    },
    {
     "data": {
      "image/png": "[encoded data removed]",
      "text/plain": [
       "<Figure size 640x480 with 1 Axes>"
      ]
     },
     "metadata": {},
     "output_type": "display_data"
    }
   ],
   "source": [
    "# Frequency counts for \"generosity\"\n",
    "whr_df['generosity'].hist()"
   ]
  },
  {
   "cell_type": "code",
   "execution_count": 42,
   "id": "f8f92fb1",
   "metadata": {},
   "outputs": [
    {
     "data": {
      "text/plain": [
       "<Axes: >"
      ]
     },
     "execution_count": 42,
     "metadata": {},
     "output_type": "execute_result"
    },
    {
     "data": {
      "image/png": "[encoded data removed]",
      "text/plain": [
       "<Figure size 640x480 with 1 Axes>"
      ]
     },
     "metadata": {},
     "output_type": "display_data"
    }
   ],
   "source": [
    "# Frequency counts for \"perceptions_of_corruption\"\n",
    "whr_df['perceptions_of_corruption'].hist()"
   ]
  },
  {
   "cell_type": "markdown",
   "id": "b5c6c340",
   "metadata": {},
   "source": [
    "### Check for and address any outliers"
   ]
  },
  {
   "cell_type": "code",
   "execution_count": 43,
   "id": "cbff1506",
   "metadata": {},
   "outputs": [
    {
     "name": "stdout",
     "output_type": "stream",
     "text": [
      "happiness_score                   1\n",
      "gdp_per_capita                    0\n",
      "social_support                   14\n",
      "healthy_life_expectancy           0\n",
      "freedom_to_make_life_choices     17\n",
      "generosity                       50\n",
      "perceptions_of_corruption       110\n",
      "year                              0\n",
      "dtype: int64\n"
     ]
    }
   ],
   "source": [
    "# find the sums of outliers for the whole dataframe\n",
    "def detect_outliers_iqr(df, threshold = 1.5):\n",
    "    q1 = df.quantile(0.25)\n",
    "    q3 = df.quantile(0.75)\n",
    "    iqr = q3 - q1\n",
    "    lower_bound = q1 - threshold * iqr\n",
    "    upper_bound = q3 + threshold * iqr\n",
    "    return ((df < lower_bound) | (df > upper_bound)).sum()\n",
    "\n",
    "df_n = whr_df.iloc[:, 2:]\n",
    "outliers = detect_outliers_iqr(df_n)\n",
    "print(outliers)"
   ]
  },
  {
   "cell_type": "code",
   "execution_count": 44,
   "id": "66eaca75",
   "metadata": {},
   "outputs": [
    {
     "data": {
      "text/html": [
       "<div>\n",
       "<style scoped>\n",
       "    .dataframe tbody tr th:only-of-type {\n",
       "        vertical-align: middle;\n",
       "    }\n",
       "\n",
       "    .dataframe tbody tr th {\n",
       "        vertical-align: top;\n",
       "    }\n",
       "\n",
       "    .dataframe thead th {\n",
       "        text-align: right;\n",
       "    }\n",
       "</style>\n",
       "<table border=\"1\" class=\"dataframe\">\n",
       "  <thead>\n",
       "    <tr style=\"text-align: right;\">\n",
       "      <th></th>\n",
       "      <th>country</th>\n",
       "      <th>region</th>\n",
       "      <th>happiness_score</th>\n",
       "      <th>gdp_per_capita</th>\n",
       "      <th>social_support</th>\n",
       "      <th>healthy_life_expectancy</th>\n",
       "      <th>freedom_to_make_life_choices</th>\n",
       "      <th>generosity</th>\n",
       "      <th>perceptions_of_corruption</th>\n",
       "      <th>year</th>\n",
       "    </tr>\n",
       "  </thead>\n",
       "  <tbody>\n",
       "    <tr>\n",
       "      <th>1366</th>\n",
       "      <td>Afghanistan</td>\n",
       "      <td>South Asia</td>\n",
       "      <td>1.86</td>\n",
       "      <td>0.65</td>\n",
       "      <td>0.0</td>\n",
       "      <td>0.09</td>\n",
       "      <td>0.0</td>\n",
       "      <td>0.09</td>\n",
       "      <td>0.06</td>\n",
       "      <td>2023</td>\n",
       "    </tr>\n",
       "  </tbody>\n",
       "</table>\n",
       "</div>"
      ],
      "text/plain": [
       "          country      region  happiness_score  gdp_per_capita  \\\n",
       "1366  Afghanistan  South Asia             1.86            0.65   \n",
       "\n",
       "      social_support  healthy_life_expectancy  freedom_to_make_life_choices  \\\n",
       "1366             0.0                     0.09                           0.0   \n",
       "\n",
       "      generosity  perceptions_of_corruption  year  \n",
       "1366        0.09                       0.06  2023  "
      ]
     },
     "execution_count": 44,
     "metadata": {},
     "output_type": "execute_result"
    }
   ],
   "source": [
    "# find the sums of outliers for a single column\n",
    "# replace the column name in the last line to see the outliers for that column\n",
    "\n",
    "def detect_outliers_iqr(column, threshold=1.5):\n",
    "    q1 = column.quantile(0.25)\n",
    "    q3 = column.quantile(0.75)\n",
    "    iqr = q3 - q1\n",
    "    lower_bound = q1 - threshold * iqr\n",
    "    upper_bound = q3 + threshold * iqr\n",
    "    outliers = (column < lower_bound) | (column > upper_bound)\n",
    "    return outliers\n",
    "\n",
    "whr_df[detect_outliers_iqr(whr_df['happiness_score'])]"
   ]
  },
  {
   "cell_type": "markdown",
   "id": "17947ad7",
   "metadata": {},
   "source": [
    "Comment: the outlier results may be helpful in formulating a hypothesis."
   ]
  },
  {
   "cell_type": "markdown",
   "id": "701a5120",
   "metadata": {},
   "source": [
    "## Export the cleaned dataframe"
   ]
  },
  {
   "cell_type": "code",
   "execution_count": 45,
   "id": "9e21171e",
   "metadata": {},
   "outputs": [],
   "source": [
    "# export the cleaned whr_df\n",
    "whr_df.to_csv(os.path.join(path, '02 Data','Prepared Data', 'whr_df.csv'))"
   ]
  }
 ],
 "metadata": {
  "kernelspec": {
   "display_name": "Python 3 (ipykernel)",
   "language": "python",
   "name": "python3"
  },
  "language_info": {
   "codemirror_mode": {
    "name": "ipython",
    "version": 3
   },
   "file_extension": ".py",
   "mimetype": "text/x-python",
   "name": "python",
   "nbconvert_exporter": "python",
   "pygments_lexer": "ipython3",
   "version": "3.11.5"
  },
  "toc": {
   "base_numbering": 1,
   "nav_menu": {},
   "number_sections": false,
   "sideBar": true,
   "skip_h1_title": false,
   "title_cell": "Table of Contents",
   "title_sidebar": "Contents",
   "toc_cell": true,
   "toc_position": {},
   "toc_section_display": true,
   "toc_window_display": false
  }
 },
 "nbformat": 4,
 "nbformat_minor": 5
}
